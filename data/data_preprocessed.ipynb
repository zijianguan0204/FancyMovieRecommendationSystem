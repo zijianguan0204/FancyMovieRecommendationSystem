{
 "cells": [
  {
   "cell_type": "code",
   "execution_count": 1,
   "metadata": {
    "pycharm": {
     "is_executing": false
    }
   },
   "outputs": [
    {
     "data": {
      "text/html": [
       "<div>\n",
       "<style scoped>\n",
       "    .dataframe tbody tr th:only-of-type {\n",
       "        vertical-align: middle;\n",
       "    }\n",
       "\n",
       "    .dataframe tbody tr th {\n",
       "        vertical-align: top;\n",
       "    }\n",
       "\n",
       "    .dataframe thead th {\n",
       "        text-align: right;\n",
       "    }\n",
       "</style>\n",
       "<table border=\"1\" class=\"dataframe\">\n",
       "  <thead>\n",
       "    <tr style=\"text-align: right;\">\n",
       "      <th></th>\n",
       "      <th>cast</th>\n",
       "      <th>crew</th>\n",
       "      <th>id</th>\n",
       "    </tr>\n",
       "  </thead>\n",
       "  <tbody>\n",
       "    <tr>\n",
       "      <th>0</th>\n",
       "      <td>[{'cast_id': 14, 'character': 'Woody (voice)',...</td>\n",
       "      <td>[{'credit_id': '52fe4284c3a36847f8024f49', 'de...</td>\n",
       "      <td>862</td>\n",
       "    </tr>\n",
       "    <tr>\n",
       "      <th>1</th>\n",
       "      <td>[{'cast_id': 1, 'character': 'Alan Parrish', '...</td>\n",
       "      <td>[{'credit_id': '52fe44bfc3a36847f80a7cd1', 'de...</td>\n",
       "      <td>8844</td>\n",
       "    </tr>\n",
       "    <tr>\n",
       "      <th>2</th>\n",
       "      <td>[{'cast_id': 2, 'character': 'Max Goldman', 'c...</td>\n",
       "      <td>[{'credit_id': '52fe466a9251416c75077a89', 'de...</td>\n",
       "      <td>15602</td>\n",
       "    </tr>\n",
       "    <tr>\n",
       "      <th>3</th>\n",
       "      <td>[{'cast_id': 1, 'character': \"Savannah 'Vannah...</td>\n",
       "      <td>[{'credit_id': '52fe44779251416c91011acb', 'de...</td>\n",
       "      <td>31357</td>\n",
       "    </tr>\n",
       "    <tr>\n",
       "      <th>4</th>\n",
       "      <td>[{'cast_id': 1, 'character': 'George Banks', '...</td>\n",
       "      <td>[{'credit_id': '52fe44959251416c75039ed7', 'de...</td>\n",
       "      <td>11862</td>\n",
       "    </tr>\n",
       "  </tbody>\n",
       "</table>\n",
       "</div>"
      ],
      "text/plain": [
       "                                                cast  \\\n",
       "0  [{'cast_id': 14, 'character': 'Woody (voice)',...   \n",
       "1  [{'cast_id': 1, 'character': 'Alan Parrish', '...   \n",
       "2  [{'cast_id': 2, 'character': 'Max Goldman', 'c...   \n",
       "3  [{'cast_id': 1, 'character': \"Savannah 'Vannah...   \n",
       "4  [{'cast_id': 1, 'character': 'George Banks', '...   \n",
       "\n",
       "                                                crew     id  \n",
       "0  [{'credit_id': '52fe4284c3a36847f8024f49', 'de...    862  \n",
       "1  [{'credit_id': '52fe44bfc3a36847f80a7cd1', 'de...   8844  \n",
       "2  [{'credit_id': '52fe466a9251416c75077a89', 'de...  15602  \n",
       "3  [{'credit_id': '52fe44779251416c91011acb', 'de...  31357  \n",
       "4  [{'credit_id': '52fe44959251416c75039ed7', 'de...  11862  "
      ]
     },
     "execution_count": 1,
     "metadata": {},
     "output_type": "execute_result"
    }
   ],
   "source": [
    "import pandas as pd\n",
    "\n",
    "df_credits = pd.read_csv('credits.csv')\n",
    "df_credits.head(5)\n"
   ]
  },
  {
   "cell_type": "code",
   "execution_count": 2,
   "metadata": {
    "pycharm": {
     "is_executing": true,
     "name": "#%%\n"
    }
   },
   "outputs": [
    {
     "name": "stdout",
     "output_type": "stream",
     "text": [
      "45476\n",
      "45432\n",
      "45432\n",
      "45432\n"
     ]
    }
   ],
   "source": [
    "print(len(df_credits))\n",
    "df_credits.drop_duplicates(subset=['id'], inplace=True)\n",
    "print(len(df_credits))\n",
    "df_credits.dropna(subset=['id'],inplace=True)\n",
    "print(len(df_credits))\n",
    "df_credits.dropna(thresh=2,inplace=True)\n",
    "print(len(df_credits))"
   ]
  },
  {
   "cell_type": "code",
   "execution_count": 7,
   "metadata": {
    "pycharm": {
     "is_executing": true,
     "name": "#%%\n"
    }
   },
   "outputs": [],
   "source": [
    "import json\n",
    "from json import JSONDecodeError\n",
    "from collections import defaultdict \n",
    "cast_dict = defaultdict(list)\n",
    "cast_info = defaultdict(list)\n",
    "genre_list = []\n",
    "for ind,row in df_credits.iterrows():\n",
    "    # print(type(row['genres']))\n",
    "    s = row['cast'].replace('\\'','\\\"')\n",
    "    s = s.replace('None','\\\"None\\\"')\n",
    "    s = s[2:-2]\n",
    "    s = s.split('}, {')\n",
    "    id = row['id']\n",
    "    cast_arr = []\n",
    "    for ss in s:\n",
    "        try:\n",
    "            json_obj = json.loads('{'+ss+'}')\n",
    "            cast_info[json_obj['id']].append(json_obj['name'].replace(',','.'))\n",
    "            cast_dict[json_obj['id']].append(id)\n",
    "        except JSONDecodeError:\n",
    "            # print(JSONDecodeError)\n",
    "            pass\n",
    "        except KeyError:\n",
    "            # print(JSONDecodeError)\n",
    "            pass\n",
    "            \n",
    "temp = []\n",
    "for id,name in cast_info.items():\n",
    "    temp.append([id,name.pop()])\n",
    "df_cast_info = pd.DataFrame(temp,columns=['id','name'])\n",
    "\n",
    "df_cast_info = df_cast_info.reset_index(drop=True).set_index(keys=['id'])\n",
    "\n",
    "# df_cast_info.to_csv('cast_info.csv')\n",
    "\n",
    "cast_movie = []\n",
    "for c_id,m_id in cast_dict.items():\n",
    "    cast_movie.append([c_id,m_id])\n",
    "df_cast_movie = pd.DataFrame(cast_movie,columns=['cast_id','movie_id'])\n",
    "\n",
    "# df_cast_movie = df_cast_movie.reset_index(drop=True).set_index(keys=['cast_id','movie_id'])\n",
    "\n",
    "df_cast_movie.to_csv('movie_cast.csv')"
   ]
  },
  {
   "cell_type": "code",
   "execution_count": 13,
   "metadata": {},
   "outputs": [
    {
     "data": {
      "text/html": [
       "<div>\n",
       "<style scoped>\n",
       "    .dataframe tbody tr th:only-of-type {\n",
       "        vertical-align: middle;\n",
       "    }\n",
       "\n",
       "    .dataframe tbody tr th {\n",
       "        vertical-align: top;\n",
       "    }\n",
       "\n",
       "    .dataframe thead th {\n",
       "        text-align: right;\n",
       "    }\n",
       "</style>\n",
       "<table border=\"1\" class=\"dataframe\">\n",
       "  <thead>\n",
       "    <tr style=\"text-align: right;\">\n",
       "      <th></th>\n",
       "      <th>crew_id</th>\n",
       "      <th>movie_id</th>\n",
       "      <th>job</th>\n",
       "    </tr>\n",
       "  </thead>\n",
       "  <tbody>\n",
       "    <tr>\n",
       "      <th>8206</th>\n",
       "      <td>1360094</td>\n",
       "      <td>9397</td>\n",
       "      <td>Set Designer</td>\n",
       "    </tr>\n",
       "    <tr>\n",
       "      <th>430590</th>\n",
       "      <td>152016</td>\n",
       "      <td>220029</td>\n",
       "      <td>Writer</td>\n",
       "    </tr>\n",
       "    <tr>\n",
       "      <th>320002</th>\n",
       "      <td>584713</td>\n",
       "      <td>125531</td>\n",
       "      <td>Editor</td>\n",
       "    </tr>\n",
       "    <tr>\n",
       "      <th>237465</th>\n",
       "      <td>1098542</td>\n",
       "      <td>42811</td>\n",
       "      <td>Editor</td>\n",
       "    </tr>\n",
       "    <tr>\n",
       "      <th>150247</th>\n",
       "      <td>96369</td>\n",
       "      <td>102428</td>\n",
       "      <td>Writer</td>\n",
       "    </tr>\n",
       "    <tr>\n",
       "      <th>92191</th>\n",
       "      <td>14643</td>\n",
       "      <td>980</td>\n",
       "      <td>Director</td>\n",
       "    </tr>\n",
       "    <tr>\n",
       "      <th>457580</th>\n",
       "      <td>1752740</td>\n",
       "      <td>391709</td>\n",
       "      <td>Dialogue Editor</td>\n",
       "    </tr>\n",
       "    <tr>\n",
       "      <th>243098</th>\n",
       "      <td>1327139</td>\n",
       "      <td>49538</td>\n",
       "      <td>Art Direction</td>\n",
       "    </tr>\n",
       "    <tr>\n",
       "      <th>123850</th>\n",
       "      <td>52193</td>\n",
       "      <td>8619</td>\n",
       "      <td>Supervising ADR Editor</td>\n",
       "    </tr>\n",
       "    <tr>\n",
       "      <th>215991</th>\n",
       "      <td>1608888</td>\n",
       "      <td>283995</td>\n",
       "      <td>First Assistant Editor</td>\n",
       "    </tr>\n",
       "  </tbody>\n",
       "</table>\n",
       "</div>"
      ],
      "text/plain": [
       "        crew_id  movie_id                     job\n",
       "8206    1360094      9397            Set Designer\n",
       "430590   152016    220029                  Writer\n",
       "320002   584713    125531                  Editor\n",
       "237465  1098542     42811                  Editor\n",
       "150247    96369    102428                  Writer\n",
       "92191     14643       980                Director\n",
       "457580  1752740    391709         Dialogue Editor\n",
       "243098  1327139     49538           Art Direction\n",
       "123850    52193      8619  Supervising ADR Editor\n",
       "215991  1608888    283995  First Assistant Editor"
      ]
     },
     "execution_count": 13,
     "metadata": {},
     "output_type": "execute_result"
    }
   ],
   "source": [
    "crew_dict = defaultdict(list)\n",
    "crew_info = defaultdict(list)\n",
    "genre_list = []\n",
    "for ind,row in df_credits.iterrows():\n",
    "    # print(type(row['genres']))\n",
    "    s = row['crew'].replace('\\'','\\\"')\n",
    "    s = s.replace('None','\\\"None\\\"')\n",
    "    s = s[2:-2]\n",
    "    s = s.split('}, {')\n",
    "\n",
    "    id = row['id']\n",
    "    crew_arr = []\n",
    "    for ss in s:\n",
    "        try:\n",
    "            json_obj = json.loads('{'+ss+'}')\n",
    "#             print(json_obj)\n",
    "#             break\n",
    "            name = json_obj['name'].replace(',','.')    \n",
    "            crew_info[json_obj['id']].append(name)\n",
    "            crew_dict[json_obj['id']].append([id,json_obj['job']])\n",
    "        except JSONDecodeError:\n",
    "            # print(JSONDecodeError)\n",
    "            pass\n",
    "        except KeyError:\n",
    "#             print(JSONDecodeError)\n",
    "            pass\n",
    "temp = []\n",
    "for id,name in crew_info.items():\n",
    "    temp.append([id,name.pop()])\n",
    "df_crew_name = pd.DataFrame(temp,columns=['id','name'])\n",
    "\n",
    "df_crew_name= df_crew_name.reset_index(drop=True).set_index(keys=['id'])\n",
    "\n",
    "df_crew_name.sample(10)\n",
    "df_crew_name.to_csv('crew_info.csv')\n",
    "\n",
    "crew_movie = []\n",
    "for c_id,movie in crew_dict.items():\n",
    "    for info in movie:\n",
    "        crew_movie.append([c_id,info[0],info[1]])\n",
    "df_crew_movie = pd.DataFrame(crew_movie,columns=['crew_id','movie_id','job'])\n",
    "df_crew_movie.sample(10)\n",
    "\n",
    "df_crew_movie.to_csv('movie_crew.csv')"
   ]
  },
  {
   "cell_type": "code",
   "execution_count": 19,
   "metadata": {},
   "outputs": [
    {
     "data": {
      "text/html": [
       "<div>\n",
       "<style scoped>\n",
       "    .dataframe tbody tr th:only-of-type {\n",
       "        vertical-align: middle;\n",
       "    }\n",
       "\n",
       "    .dataframe tbody tr th {\n",
       "        vertical-align: top;\n",
       "    }\n",
       "\n",
       "    .dataframe thead th {\n",
       "        text-align: right;\n",
       "    }\n",
       "</style>\n",
       "<table border=\"1\" class=\"dataframe\">\n",
       "  <thead>\n",
       "    <tr style=\"text-align: right;\">\n",
       "      <th></th>\n",
       "      <th>cast_id</th>\n",
       "      <th>movie_id</th>\n",
       "    </tr>\n",
       "  </thead>\n",
       "  <tbody>\n",
       "    <tr>\n",
       "      <th>0</th>\n",
       "      <td>31</td>\n",
       "      <td>862</td>\n",
       "    </tr>\n",
       "    <tr>\n",
       "      <th>1</th>\n",
       "      <td>31</td>\n",
       "      <td>568</td>\n",
       "    </tr>\n",
       "    <tr>\n",
       "      <th>2</th>\n",
       "      <td>31</td>\n",
       "      <td>13</td>\n",
       "    </tr>\n",
       "    <tr>\n",
       "      <th>3</th>\n",
       "      <td>31</td>\n",
       "      <td>9800</td>\n",
       "    </tr>\n",
       "    <tr>\n",
       "      <th>4</th>\n",
       "      <td>31</td>\n",
       "      <td>858</td>\n",
       "    </tr>\n",
       "  </tbody>\n",
       "</table>\n",
       "</div>"
      ],
      "text/plain": [
       "   cast_id  movie_id\n",
       "0       31       862\n",
       "1       31       568\n",
       "2       31        13\n",
       "3       31      9800\n",
       "4       31       858"
      ]
     },
     "execution_count": 19,
     "metadata": {},
     "output_type": "execute_result"
    }
   ],
   "source": [
    "df_credits_data = pd.read_csv('movie_cast.csv')\n",
    "\n",
    "# df_credits_data.drop(columns=['Unnamed: 0'],inplace=True)\n",
    "df_credits_data.head()"
   ]
  },
  {
   "cell_type": "code",
   "execution_count": 20,
   "metadata": {},
   "outputs": [
    {
     "name": "stdout",
     "output_type": "stream",
     "text": [
      "532496\n",
      "532496\n"
     ]
    }
   ],
   "source": [
    "print(len(df_credits_data))\n",
    "df_credits_data = df_credits_data.drop_duplicates()\n",
    "print(len(df_credits_data))"
   ]
  },
  {
   "cell_type": "code",
   "execution_count": 16,
   "metadata": {},
   "outputs": [
    {
     "data": {
      "text/plain": [
       "0"
      ]
     },
     "execution_count": 16,
     "metadata": {},
     "output_type": "execute_result"
    }
   ],
   "source": [
    "check = {}\n",
    "count = 0\n",
    "for ind,row in df_credits_data.iterrows():\n",
    "    if (row['cast_id'],row['movie_id']) not in check:\n",
    "        check[(row['cast_id'],row['movie_id'])] = 1\n",
    "    else:\n",
    "        print((row['cast_id'],row['movie_id']))\n",
    "count"
   ]
  },
  {
   "cell_type": "code",
   "execution_count": 23,
   "metadata": {},
   "outputs": [
    {
     "data": {
      "text/html": [
       "<div>\n",
       "<style scoped>\n",
       "    .dataframe tbody tr th:only-of-type {\n",
       "        vertical-align: middle;\n",
       "    }\n",
       "\n",
       "    .dataframe tbody tr th {\n",
       "        vertical-align: top;\n",
       "    }\n",
       "\n",
       "    .dataframe thead th {\n",
       "        text-align: right;\n",
       "    }\n",
       "</style>\n",
       "<table border=\"1\" class=\"dataframe\">\n",
       "  <thead>\n",
       "    <tr style=\"text-align: right;\">\n",
       "      <th></th>\n",
       "      <th></th>\n",
       "    </tr>\n",
       "    <tr>\n",
       "      <th>cast_id</th>\n",
       "      <th>movie_id</th>\n",
       "    </tr>\n",
       "  </thead>\n",
       "  <tbody>\n",
       "    <tr>\n",
       "      <th rowspan=\"5\" valign=\"top\">31</th>\n",
       "      <th>862</th>\n",
       "    </tr>\n",
       "    <tr>\n",
       "      <th>568</th>\n",
       "    </tr>\n",
       "    <tr>\n",
       "      <th>13</th>\n",
       "    </tr>\n",
       "    <tr>\n",
       "      <th>9800</th>\n",
       "    </tr>\n",
       "    <tr>\n",
       "      <th>858</th>\n",
       "    </tr>\n",
       "  </tbody>\n",
       "</table>\n",
       "</div>"
      ],
      "text/plain": [
       "Empty DataFrame\n",
       "Columns: []\n",
       "Index: [(31, 862), (31, 568), (31, 13), (31, 9800), (31, 858)]"
      ]
     },
     "execution_count": 23,
     "metadata": {},
     "output_type": "execute_result"
    }
   ],
   "source": [
    "df_credits_data = df_credits_data.reset_index(drop=True).set_index(keys=['cast_id','movie_id'])\n",
    "df_credits_data.head()"
   ]
  },
  {
   "cell_type": "code",
   "execution_count": 24,
   "metadata": {},
   "outputs": [],
   "source": [
    "df_credits_data.to_csv('movie_cast.csv')"
   ]
  },
  {
   "cell_type": "code",
   "execution_count": 25,
   "metadata": {},
   "outputs": [
    {
     "name": "stdout",
     "output_type": "stream",
     "text": [
      "460761\n",
      "460761\n"
     ]
    },
    {
     "data": {
      "text/html": [
       "<div>\n",
       "<style scoped>\n",
       "    .dataframe tbody tr th:only-of-type {\n",
       "        vertical-align: middle;\n",
       "    }\n",
       "\n",
       "    .dataframe tbody tr th {\n",
       "        vertical-align: top;\n",
       "    }\n",
       "\n",
       "    .dataframe thead th {\n",
       "        text-align: right;\n",
       "    }\n",
       "</style>\n",
       "<table border=\"1\" class=\"dataframe\">\n",
       "  <thead>\n",
       "    <tr style=\"text-align: right;\">\n",
       "      <th></th>\n",
       "      <th></th>\n",
       "    </tr>\n",
       "    <tr>\n",
       "      <th>cast_id</th>\n",
       "      <th>movie_id</th>\n",
       "    </tr>\n",
       "  </thead>\n",
       "  <tbody>\n",
       "    <tr>\n",
       "      <th rowspan=\"5\" valign=\"top\">31</th>\n",
       "      <th>862</th>\n",
       "    </tr>\n",
       "    <tr>\n",
       "      <th>568</th>\n",
       "    </tr>\n",
       "    <tr>\n",
       "      <th>13</th>\n",
       "    </tr>\n",
       "    <tr>\n",
       "      <th>9800</th>\n",
       "    </tr>\n",
       "    <tr>\n",
       "      <th>858</th>\n",
       "    </tr>\n",
       "  </tbody>\n",
       "</table>\n",
       "</div>"
      ],
      "text/plain": [
       "Empty DataFrame\n",
       "Columns: []\n",
       "Index: [(31, 862), (31, 568), (31, 13), (31, 9800), (31, 858)]"
      ]
     },
     "execution_count": 25,
     "metadata": {},
     "output_type": "execute_result"
    }
   ],
   "source": [
    "df_crew_data = pd.read_csv('movie_crew.csv')\n",
    "print(len(df_crew_data))\n",
    "df_crew_data = df_crew_data.drop_duplicates()\n",
    "print(len(df_crew_data))\n",
    "df_crew_data = df_crew_data.reset_index(drop=True).set_index(keys=['crew_id','movie_id'])\n",
    "df_crew_data.head()"
   ]
  },
  {
   "cell_type": "code",
   "execution_count": null,
   "metadata": {},
   "outputs": [],
   "source": []
  }
 ],
 "metadata": {
  "kernelspec": {
   "display_name": "Python 3",
   "language": "python",
   "name": "python3"
  },
  "language_info": {
   "codemirror_mode": {
    "name": "ipython",
    "version": 3
   },
   "file_extension": ".py",
   "mimetype": "text/x-python",
   "name": "python",
   "nbconvert_exporter": "python",
   "pygments_lexer": "ipython3",
   "version": "3.6.8"
  },
  "pycharm": {
   "stem_cell": {
    "cell_type": "raw",
    "metadata": {
     "collapsed": false
    },
    "source": []
   }
  }
 },
 "nbformat": 4,
 "nbformat_minor": 1
}
